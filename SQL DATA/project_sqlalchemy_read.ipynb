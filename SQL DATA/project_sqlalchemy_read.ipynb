{
 "cells": [
  {
   "cell_type": "code",
   "execution_count": null,
   "id": "0c018c2c",
   "metadata": {},
   "outputs": [],
   "source": [
    "# Pandas\n",
    "import pandas as pd\n",
    "\n",
    "# SQL Alchemy\n",
    "from sqlalchemy import create_engine"
   ]
  },
  {
   "cell_type": "code",
   "execution_count": null,
   "id": "0a932af5",
   "metadata": {},
   "outputs": [],
   "source": [
    "# Create Engine for dinseydata\n",
    "disney_database_path = \"../Resources/disney_data.csv\"\n",
    "engine = create_engine(f\"sqlite:///{disney_database_path}\")\n",
    "conn = engine.connect()"
   ]
  },
  {
   "cell_type": "code",
   "execution_count": null,
   "id": "495cec24",
   "metadata": {},
   "outputs": [],
   "source": [
    "#Query All Records in the the Database\n",
    "data = pd.read_sql(\"SELECT * FROM disney_Data\", conn)"
   ]
  },
  {
   "cell_type": "code",
   "execution_count": null,
   "id": "a607647c",
   "metadata": {},
   "outputs": [],
   "source": [
    "# Create Engine for netflix data\n",
    "netflix_database_path = \"../Resources/netfilx.csv\"\n",
    "engine = create_engine(f\"sqlite:///{netflix_database_path}\")\n",
    "conn = engine.connect()"
   ]
  },
  {
   "cell_type": "code",
   "execution_count": null,
   "id": "d16a7897",
   "metadata": {},
   "outputs": [],
   "source": [
    "#Query All Records in the the Database\n",
    "data = pd.read_sql(\"SELECT * FROM disney_Data\", conn)"
   ]
  },
  {
   "cell_type": "code",
   "execution_count": null,
   "id": "ebe791cb",
   "metadata": {},
   "outputs": [],
   "source": [
    "# Preview the Data\n",
    "data.head()"
   ]
  }
 ],
 "metadata": {
  "kernelspec": {
   "display_name": "Python 3 (ipykernel)",
   "language": "python",
   "name": "python3"
  },
  "language_info": {
   "codemirror_mode": {
    "name": "ipython",
    "version": 3
   },
   "file_extension": ".py",
   "mimetype": "text/x-python",
   "name": "python",
   "nbconvert_exporter": "python",
   "pygments_lexer": "ipython3",
   "version": "3.9.6"
  }
 },
 "nbformat": 4,
 "nbformat_minor": 5
}
