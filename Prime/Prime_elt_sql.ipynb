{
 "cells": [
  {
   "cell_type": "code",
   "execution_count": 3,
   "id": "2716c467",
   "metadata": {},
   "outputs": [],
   "source": [
    "#Dependencies\n",
    "import pandas as pd\n",
    "from sqlalchemy import create_engine\n",
    "import requests\n",
    "import json\n",
    "from pprint import pprint\n"
   ]
  },
  {
   "cell_type": "code",
   "execution_count": 5,
   "id": "c23db867",
   "metadata": {},
   "outputs": [
    {
     "data": {
      "text/html": [
       "<div>\n",
       "<style scoped>\n",
       "    .dataframe tbody tr th:only-of-type {\n",
       "        vertical-align: middle;\n",
       "    }\n",
       "\n",
       "    .dataframe tbody tr th {\n",
       "        vertical-align: top;\n",
       "    }\n",
       "\n",
       "    .dataframe thead th {\n",
       "        text-align: right;\n",
       "    }\n",
       "</style>\n",
       "<table border=\"1\" class=\"dataframe\">\n",
       "  <thead>\n",
       "    <tr style=\"text-align: right;\">\n",
       "      <th></th>\n",
       "      <th>movie_name</th>\n",
       "      <th>language</th>\n",
       "      <th>imdb_rating</th>\n",
       "      <th>running_time</th>\n",
       "      <th>year_of_release</th>\n",
       "      <th>maturity_rating</th>\n",
       "      <th>plot</th>\n",
       "    </tr>\n",
       "  </thead>\n",
       "  <tbody>\n",
       "    <tr>\n",
       "      <th>0</th>\n",
       "      <td>John Rambo</td>\n",
       "      <td>Tamil</td>\n",
       "      <td>7</td>\n",
       "      <td>1 h 26 min</td>\n",
       "      <td>2008</td>\n",
       "      <td>18+</td>\n",
       "      <td>In Thailand, John Rambo joins a group of merce...</td>\n",
       "    </tr>\n",
       "    <tr>\n",
       "      <th>1</th>\n",
       "      <td>American Pie</td>\n",
       "      <td>English</td>\n",
       "      <td>7</td>\n",
       "      <td>1 h 35 min</td>\n",
       "      <td>1999</td>\n",
       "      <td>18+</td>\n",
       "      <td>You'll never look at warm apple pie the same w...</td>\n",
       "    </tr>\n",
       "    <tr>\n",
       "      <th>2</th>\n",
       "      <td>Bombshell</td>\n",
       "      <td>English</td>\n",
       "      <td>6.8</td>\n",
       "      <td>1 h 48 min</td>\n",
       "      <td>2019</td>\n",
       "      <td>18+</td>\n",
       "      <td>The provocative real story of three smart, amb...</td>\n",
       "    </tr>\n",
       "    <tr>\n",
       "      <th>3</th>\n",
       "      <td>Love Birds</td>\n",
       "      <td>Tamil</td>\n",
       "      <td>5.1</td>\n",
       "      <td>2 h 40 min</td>\n",
       "      <td>1996</td>\n",
       "      <td>All</td>\n",
       "      <td>After accidentally meeting, Mridula (Nagma) an...</td>\n",
       "    </tr>\n",
       "    <tr>\n",
       "      <th>4</th>\n",
       "      <td>Hippi</td>\n",
       "      <td>Telugu</td>\n",
       "      <td>5</td>\n",
       "      <td>2 h 20 min</td>\n",
       "      <td>2019</td>\n",
       "      <td>18+</td>\n",
       "      <td>Hippi is about the live-in relationship betwee...</td>\n",
       "    </tr>\n",
       "  </tbody>\n",
       "</table>\n",
       "</div>"
      ],
      "text/plain": [
       "     movie_name language imdb_rating running_time year_of_release  \\\n",
       "0    John Rambo    Tamil           7   1 h 26 min            2008   \n",
       "1  American Pie  English           7   1 h 35 min            1999   \n",
       "2     Bombshell  English         6.8   1 h 48 min            2019   \n",
       "3    Love Birds    Tamil         5.1   2 h 40 min            1996   \n",
       "4         Hippi   Telugu           5   2 h 20 min            2019   \n",
       "\n",
       "  maturity_rating                                               plot  \n",
       "0             18+  In Thailand, John Rambo joins a group of merce...  \n",
       "1             18+  You'll never look at warm apple pie the same w...  \n",
       "2             18+  The provocative real story of three smart, amb...  \n",
       "3             All  After accidentally meeting, Mridula (Nagma) an...  \n",
       "4             18+  Hippi is about the live-in relationship betwee...  "
      ]
     },
     "execution_count": 5,
     "metadata": {},
     "output_type": "execute_result"
    }
   ],
   "source": [
    "#Extract CSV into DataFrame\n",
    "prime_file = \"../Resources/amazon_prime_movies.csv\"\n",
    "prime_df = pd.read_csv(prime_file)\n",
    "prime_df.head()"
   ]
  },
  {
   "cell_type": "code",
   "execution_count": 64,
   "id": "c98b49dd",
   "metadata": {},
   "outputs": [
    {
     "data": {
      "text/plain": [
       "0         7\n",
       "1         7\n",
       "2       6.8\n",
       "3       5.1\n",
       "4         5\n",
       "       ... \n",
       "8121    6.7\n",
       "8122    5.2\n",
       "8123    6.5\n",
       "8124    7.1\n",
       "8126      4\n",
       "Name: imdb_rating, Length: 6119, dtype: object"
      ]
     },
     "execution_count": 64,
     "metadata": {},
     "output_type": "execute_result"
    }
   ],
   "source": [
    "#Creating new Dataset with selected coloumns and clean it\n",
    "new_prime_df = prime_df[['movie_name', 'language', 'imdb_rating','maturity_rating']].copy()\n",
    "new_prime_df.head()\n",
    "\n",
    "new_prime_df = prime_df[prime_df['imdb_rating'].str.strip() != 'None']\n",
    "new_prime_df['imdb_rating']"
   ]
  },
  {
   "cell_type": "code",
   "execution_count": 65,
   "id": "18bdf989",
   "metadata": {},
   "outputs": [
    {
     "data": {
      "text/html": [
       "<div>\n",
       "<style scoped>\n",
       "    .dataframe tbody tr th:only-of-type {\n",
       "        vertical-align: middle;\n",
       "    }\n",
       "\n",
       "    .dataframe tbody tr th {\n",
       "        vertical-align: top;\n",
       "    }\n",
       "\n",
       "    .dataframe thead th {\n",
       "        text-align: right;\n",
       "    }\n",
       "</style>\n",
       "<table border=\"1\" class=\"dataframe\">\n",
       "  <thead>\n",
       "    <tr style=\"text-align: right;\">\n",
       "      <th></th>\n",
       "      <th>movie_name</th>\n",
       "      <th>language</th>\n",
       "      <th>maturity_rating</th>\n",
       "    </tr>\n",
       "    <tr>\n",
       "      <th>imdb_rating</th>\n",
       "      <th></th>\n",
       "      <th></th>\n",
       "      <th></th>\n",
       "    </tr>\n",
       "  </thead>\n",
       "  <tbody>\n",
       "    <tr>\n",
       "      <th>7</th>\n",
       "      <td>John Rambo</td>\n",
       "      <td>Tamil</td>\n",
       "      <td>18+</td>\n",
       "    </tr>\n",
       "    <tr>\n",
       "      <th>7</th>\n",
       "      <td>American Pie</td>\n",
       "      <td>English</td>\n",
       "      <td>18+</td>\n",
       "    </tr>\n",
       "    <tr>\n",
       "      <th>6.8</th>\n",
       "      <td>Bombshell</td>\n",
       "      <td>English</td>\n",
       "      <td>18+</td>\n",
       "    </tr>\n",
       "    <tr>\n",
       "      <th>5.1</th>\n",
       "      <td>Love Birds</td>\n",
       "      <td>Tamil</td>\n",
       "      <td>All</td>\n",
       "    </tr>\n",
       "    <tr>\n",
       "      <th>5</th>\n",
       "      <td>Hippi</td>\n",
       "      <td>Telugu</td>\n",
       "      <td>18+</td>\n",
       "    </tr>\n",
       "  </tbody>\n",
       "</table>\n",
       "</div>"
      ],
      "text/plain": [
       "               movie_name language maturity_rating\n",
       "imdb_rating                                       \n",
       "7              John Rambo    Tamil             18+\n",
       "7            American Pie  English             18+\n",
       "6.8             Bombshell  English             18+\n",
       "5.1            Love Birds    Tamil             All\n",
       "5                   Hippi   Telugu             18+"
      ]
     },
     "execution_count": 65,
     "metadata": {},
     "output_type": "execute_result"
    }
   ],
   "source": [
    "#Transform Prime DataFrame\n",
    "#Create a filtered dataframe from specific columns\n",
    "prime_cols = [\"movie_name\", \"language\", \"imdb_rating\", \"maturity_rating\"]\n",
    "prime_transformed = new_prime_df[prime_cols].copy()\n",
    "\n",
    "# Rename the column headers\n",
    "prime_transformed = prime_transformed.rename(columns={\"movie_name\": \"movie_name\",\n",
    "                                                          \"language\": \"language\",\n",
    "                                                          \"imdb_rating\": \"imdb_rating\",\n",
    "                                                        \"maturity_rating\": \"maturity_rating\"})\n",
    "\n",
    "# Clean the data by dropping duplicates and setting the index\n",
    "prime_transformed.drop_duplicates(\"movie_name\", inplace=True)\n",
    "prime_transformed.set_index(\"imdb_rating\", inplace=True)\n",
    "\n",
    "prime_transformed.head()\n"
   ]
  },
  {
   "cell_type": "code",
   "execution_count": 66,
   "id": "8fb334fe",
   "metadata": {},
   "outputs": [],
   "source": [
    "#Create Database connection\n",
    "connection_string = \"postgres:postgres@localhost:5432/prime1_db\"\n",
    "engine = create_engine(f'postgresql://{connection_string}')"
   ]
  },
  {
   "cell_type": "code",
   "execution_count": 67,
   "id": "c1012a76",
   "metadata": {},
   "outputs": [
    {
     "name": "stderr",
     "output_type": "stream",
     "text": [
      "/var/folders/s3/_tx_vh_n3jxcv5xmm_5v0lpr0000gn/T/ipykernel_11639/3015872754.py:2: SADeprecationWarning: The Engine.table_names() method is deprecated and will be removed in a future release.  Please refer to Inspector.get_table_names(). (deprecated since: 1.4)\n",
      "  engine.table_names()\n"
     ]
    },
    {
     "data": {
      "text/plain": [
       "['prime', 'prime_table']"
      ]
     },
     "execution_count": 67,
     "metadata": {},
     "output_type": "execute_result"
    }
   ],
   "source": [
    "# Confirm tables\n",
    "engine.table_names()"
   ]
  },
  {
   "cell_type": "code",
   "execution_count": 68,
   "id": "aa64fba2",
   "metadata": {},
   "outputs": [],
   "source": [
    "#Use pandas to Load  csv converted DataFrames into database\n",
    "prime_transformed.to_sql(name='prime_table', con=engine, if_exists='append', index=True)"
   ]
  },
  {
   "cell_type": "code",
   "execution_count": 69,
   "id": "824d5829",
   "metadata": {},
   "outputs": [
    {
     "data": {
      "text/html": [
       "<div>\n",
       "<style scoped>\n",
       "    .dataframe tbody tr th:only-of-type {\n",
       "        vertical-align: middle;\n",
       "    }\n",
       "\n",
       "    .dataframe tbody tr th {\n",
       "        vertical-align: top;\n",
       "    }\n",
       "\n",
       "    .dataframe thead th {\n",
       "        text-align: right;\n",
       "    }\n",
       "</style>\n",
       "<table border=\"1\" class=\"dataframe\">\n",
       "  <thead>\n",
       "    <tr style=\"text-align: right;\">\n",
       "      <th></th>\n",
       "      <th>movie_name</th>\n",
       "      <th>language</th>\n",
       "      <th>imdb_rating</th>\n",
       "      <th>running_time</th>\n",
       "      <th>year_of_release</th>\n",
       "      <th>plot</th>\n",
       "      <th>maturity_rating</th>\n",
       "    </tr>\n",
       "  </thead>\n",
       "  <tbody>\n",
       "    <tr>\n",
       "      <th>0</th>\n",
       "      <td>John Rambo</td>\n",
       "      <td>Tamil</td>\n",
       "      <td>7.0</td>\n",
       "      <td>None</td>\n",
       "      <td>None</td>\n",
       "      <td>None</td>\n",
       "      <td>18+</td>\n",
       "    </tr>\n",
       "    <tr>\n",
       "      <th>1</th>\n",
       "      <td>American Pie</td>\n",
       "      <td>English</td>\n",
       "      <td>7.0</td>\n",
       "      <td>None</td>\n",
       "      <td>None</td>\n",
       "      <td>None</td>\n",
       "      <td>18+</td>\n",
       "    </tr>\n",
       "    <tr>\n",
       "      <th>2</th>\n",
       "      <td>Bombshell</td>\n",
       "      <td>English</td>\n",
       "      <td>6.8</td>\n",
       "      <td>None</td>\n",
       "      <td>None</td>\n",
       "      <td>None</td>\n",
       "      <td>18+</td>\n",
       "    </tr>\n",
       "    <tr>\n",
       "      <th>3</th>\n",
       "      <td>Love Birds</td>\n",
       "      <td>Tamil</td>\n",
       "      <td>5.1</td>\n",
       "      <td>None</td>\n",
       "      <td>None</td>\n",
       "      <td>None</td>\n",
       "      <td>All</td>\n",
       "    </tr>\n",
       "    <tr>\n",
       "      <th>4</th>\n",
       "      <td>Hippi</td>\n",
       "      <td>Telugu</td>\n",
       "      <td>5.0</td>\n",
       "      <td>None</td>\n",
       "      <td>None</td>\n",
       "      <td>None</td>\n",
       "      <td>18+</td>\n",
       "    </tr>\n",
       "  </tbody>\n",
       "</table>\n",
       "</div>"
      ],
      "text/plain": [
       "     movie_name language  imdb_rating running_time year_of_release  plot  \\\n",
       "0    John Rambo    Tamil          7.0         None            None  None   \n",
       "1  American Pie  English          7.0         None            None  None   \n",
       "2     Bombshell  English          6.8         None            None  None   \n",
       "3    Love Birds    Tamil          5.1         None            None  None   \n",
       "4         Hippi   Telugu          5.0         None            None  None   \n",
       "\n",
       "  maturity_rating  \n",
       "0             18+  \n",
       "1             18+  \n",
       "2             18+  \n",
       "3             All  \n",
       "4             18+  "
      ]
     },
     "execution_count": 69,
     "metadata": {},
     "output_type": "execute_result"
    }
   ],
   "source": [
    "#confirm data has been added by quering the table\n",
    "pd.read_sql_query('select * from prime_table', con=engine).head()"
   ]
  }
 ],
 "metadata": {
  "kernelspec": {
   "display_name": "Python 3 (ipykernel)",
   "language": "python",
   "name": "python3"
  },
  "language_info": {
   "codemirror_mode": {
    "name": "ipython",
    "version": 3
   },
   "file_extension": ".py",
   "mimetype": "text/x-python",
   "name": "python",
   "nbconvert_exporter": "python",
   "pygments_lexer": "ipython3",
   "version": "3.9.6"
  }
 },
 "nbformat": 4,
 "nbformat_minor": 5
}
