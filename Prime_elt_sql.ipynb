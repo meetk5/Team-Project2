{
 "cells": [
  {
   "cell_type": "code",
   "execution_count": 4,
   "id": "2716c467",
   "metadata": {},
   "outputs": [],
   "source": [
    "#Dependencies\n",
    "import pandas as pd\n",
    "from sqlalchemy import create_engine\n",
    "from config import postgres_pwd"
   ]
  },
  {
   "cell_type": "code",
   "execution_count": 5,
   "id": "133bbdc0",
   "metadata": {},
   "outputs": [
    {
     "data": {
      "text/html": [
       "<div>\n",
       "<style scoped>\n",
       "    .dataframe tbody tr th:only-of-type {\n",
       "        vertical-align: middle;\n",
       "    }\n",
       "\n",
       "    .dataframe tbody tr th {\n",
       "        vertical-align: top;\n",
       "    }\n",
       "\n",
       "    .dataframe thead th {\n",
       "        text-align: right;\n",
       "    }\n",
       "</style>\n",
       "<table border=\"1\" class=\"dataframe\">\n",
       "  <thead>\n",
       "    <tr style=\"text-align: right;\">\n",
       "      <th></th>\n",
       "      <th>Movie Name</th>\n",
       "      <th>Language</th>\n",
       "      <th>IMDb Rating</th>\n",
       "      <th>Running Time</th>\n",
       "      <th>Year of Release</th>\n",
       "      <th>Maturity Rating</th>\n",
       "      <th>Plot</th>\n",
       "    </tr>\n",
       "  </thead>\n",
       "  <tbody>\n",
       "    <tr>\n",
       "      <th>0</th>\n",
       "      <td>John Rambo</td>\n",
       "      <td>Tamil</td>\n",
       "      <td>7</td>\n",
       "      <td>1 h 26 min</td>\n",
       "      <td>2008</td>\n",
       "      <td>18+</td>\n",
       "      <td>In Thailand, John Rambo joins a group of merce...</td>\n",
       "    </tr>\n",
       "    <tr>\n",
       "      <th>1</th>\n",
       "      <td>American Pie</td>\n",
       "      <td>English</td>\n",
       "      <td>7</td>\n",
       "      <td>1 h 35 min</td>\n",
       "      <td>1999</td>\n",
       "      <td>18+</td>\n",
       "      <td>You'll never look at warm apple pie the same w...</td>\n",
       "    </tr>\n",
       "    <tr>\n",
       "      <th>2</th>\n",
       "      <td>Bombshell</td>\n",
       "      <td>English</td>\n",
       "      <td>6.8</td>\n",
       "      <td>1 h 48 min</td>\n",
       "      <td>2019</td>\n",
       "      <td>18+</td>\n",
       "      <td>The provocative real story of three smart, amb...</td>\n",
       "    </tr>\n",
       "    <tr>\n",
       "      <th>3</th>\n",
       "      <td>Love Birds</td>\n",
       "      <td>Tamil</td>\n",
       "      <td>5.1</td>\n",
       "      <td>2 h 40 min</td>\n",
       "      <td>1996</td>\n",
       "      <td>All</td>\n",
       "      <td>After accidentally meeting, Mridula (Nagma) an...</td>\n",
       "    </tr>\n",
       "    <tr>\n",
       "      <th>4</th>\n",
       "      <td>Hippi</td>\n",
       "      <td>Telugu</td>\n",
       "      <td>5</td>\n",
       "      <td>2 h 20 min</td>\n",
       "      <td>2019</td>\n",
       "      <td>18+</td>\n",
       "      <td>Hippi is about the live-in relationship betwee...</td>\n",
       "    </tr>\n",
       "  </tbody>\n",
       "</table>\n",
       "</div>"
      ],
      "text/plain": [
       "     Movie Name Language IMDb Rating Running Time Year of Release  \\\n",
       "0    John Rambo    Tamil           7   1 h 26 min            2008   \n",
       "1  American Pie  English           7   1 h 35 min            1999   \n",
       "2     Bombshell  English         6.8   1 h 48 min            2019   \n",
       "3    Love Birds    Tamil         5.1   2 h 40 min            1996   \n",
       "4         Hippi   Telugu           5   2 h 20 min            2019   \n",
       "\n",
       "  Maturity Rating                                               Plot  \n",
       "0             18+  In Thailand, John Rambo joins a group of merce...  \n",
       "1             18+  You'll never look at warm apple pie the same w...  \n",
       "2             18+  The provocative real story of three smart, amb...  \n",
       "3             All  After accidentally meeting, Mridula (Nagma) an...  \n",
       "4             18+  Hippi is about the live-in relationship betwee...  "
      ]
     },
     "execution_count": 5,
     "metadata": {},
     "output_type": "execute_result"
    }
   ],
   "source": [
    "#Extract CSV into DataFrame\n",
    "prime_file = \"./Resources/amazon_prime_movies.csv\"\n",
    "prime_df = pd.read_csv(prime_file)\n",
    "prime_df.head()"
   ]
  },
  {
   "cell_type": "code",
   "execution_count": 8,
   "id": "5ca6e00b",
   "metadata": {},
   "outputs": [
    {
     "data": {
      "text/html": [
       "<div>\n",
       "<style scoped>\n",
       "    .dataframe tbody tr th:only-of-type {\n",
       "        vertical-align: middle;\n",
       "    }\n",
       "\n",
       "    .dataframe tbody tr th {\n",
       "        vertical-align: top;\n",
       "    }\n",
       "\n",
       "    .dataframe thead th {\n",
       "        text-align: right;\n",
       "    }\n",
       "</style>\n",
       "<table border=\"1\" class=\"dataframe\">\n",
       "  <thead>\n",
       "    <tr style=\"text-align: right;\">\n",
       "      <th></th>\n",
       "      <th>Movie Name</th>\n",
       "      <th>Language</th>\n",
       "      <th>IMDb Rating</th>\n",
       "      <th>Maturity Rating</th>\n",
       "    </tr>\n",
       "  </thead>\n",
       "  <tbody>\n",
       "    <tr>\n",
       "      <th>0</th>\n",
       "      <td>John Rambo</td>\n",
       "      <td>Tamil</td>\n",
       "      <td>7</td>\n",
       "      <td>18+</td>\n",
       "    </tr>\n",
       "    <tr>\n",
       "      <th>1</th>\n",
       "      <td>American Pie</td>\n",
       "      <td>English</td>\n",
       "      <td>7</td>\n",
       "      <td>18+</td>\n",
       "    </tr>\n",
       "    <tr>\n",
       "      <th>2</th>\n",
       "      <td>Bombshell</td>\n",
       "      <td>English</td>\n",
       "      <td>6.8</td>\n",
       "      <td>18+</td>\n",
       "    </tr>\n",
       "    <tr>\n",
       "      <th>3</th>\n",
       "      <td>Love Birds</td>\n",
       "      <td>Tamil</td>\n",
       "      <td>5.1</td>\n",
       "      <td>All</td>\n",
       "    </tr>\n",
       "    <tr>\n",
       "      <th>4</th>\n",
       "      <td>Hippi</td>\n",
       "      <td>Telugu</td>\n",
       "      <td>5</td>\n",
       "      <td>18+</td>\n",
       "    </tr>\n",
       "  </tbody>\n",
       "</table>\n",
       "</div>"
      ],
      "text/plain": [
       "     Movie Name Language IMDb Rating Maturity Rating\n",
       "0    John Rambo    Tamil           7             18+\n",
       "1  American Pie  English           7             18+\n",
       "2     Bombshell  English         6.8             18+\n",
       "3    Love Birds    Tamil         5.1             All\n",
       "4         Hippi   Telugu           5             18+"
      ]
     },
     "execution_count": 8,
     "metadata": {},
     "output_type": "execute_result"
    }
   ],
   "source": [
    "#Creating new Dataset with selected coloumns and clean it\n",
    "new_prime_df = prime_df[['Movie Name', 'Language', 'IMDb Rating','Maturity Rating']].copy()\n",
    "new_prime_df.head()"
   ]
  },
  {
   "cell_type": "code",
   "execution_count": null,
   "id": "ce32fc57",
   "metadata": {},
   "outputs": [],
   "source": []
  },
  {
   "cell_type": "code",
   "execution_count": 10,
   "id": "4c61d103",
   "metadata": {},
   "outputs": [
    {
     "data": {
      "text/html": [
       "<div>\n",
       "<style scoped>\n",
       "    .dataframe tbody tr th:only-of-type {\n",
       "        vertical-align: middle;\n",
       "    }\n",
       "\n",
       "    .dataframe tbody tr th {\n",
       "        vertical-align: top;\n",
       "    }\n",
       "\n",
       "    .dataframe thead th {\n",
       "        text-align: right;\n",
       "    }\n",
       "</style>\n",
       "<table border=\"1\" class=\"dataframe\">\n",
       "  <thead>\n",
       "    <tr style=\"text-align: right;\">\n",
       "      <th></th>\n",
       "      <th>Movie Title</th>\n",
       "      <th>Language</th>\n",
       "      <th>PG Rating</th>\n",
       "    </tr>\n",
       "    <tr>\n",
       "      <th>IMDB Rating</th>\n",
       "      <th></th>\n",
       "      <th></th>\n",
       "      <th></th>\n",
       "    </tr>\n",
       "  </thead>\n",
       "  <tbody>\n",
       "    <tr>\n",
       "      <th>7</th>\n",
       "      <td>John Rambo</td>\n",
       "      <td>Tamil</td>\n",
       "      <td>18+</td>\n",
       "    </tr>\n",
       "    <tr>\n",
       "      <th>7</th>\n",
       "      <td>American Pie</td>\n",
       "      <td>English</td>\n",
       "      <td>18+</td>\n",
       "    </tr>\n",
       "    <tr>\n",
       "      <th>6.8</th>\n",
       "      <td>Bombshell</td>\n",
       "      <td>English</td>\n",
       "      <td>18+</td>\n",
       "    </tr>\n",
       "    <tr>\n",
       "      <th>5.1</th>\n",
       "      <td>Love Birds</td>\n",
       "      <td>Tamil</td>\n",
       "      <td>All</td>\n",
       "    </tr>\n",
       "    <tr>\n",
       "      <th>5</th>\n",
       "      <td>Hippi</td>\n",
       "      <td>Telugu</td>\n",
       "      <td>18+</td>\n",
       "    </tr>\n",
       "  </tbody>\n",
       "</table>\n",
       "</div>"
      ],
      "text/plain": [
       "              Movie Title Language PG Rating\n",
       "IMDB Rating                                 \n",
       "7              John Rambo    Tamil       18+\n",
       "7            American Pie  English       18+\n",
       "6.8             Bombshell  English       18+\n",
       "5.1            Love Birds    Tamil       All\n",
       "5                   Hippi   Telugu       18+"
      ]
     },
     "execution_count": 10,
     "metadata": {},
     "output_type": "execute_result"
    }
   ],
   "source": [
    "#Transform Prime DataFrame\n",
    "#Create a filtered dataframe from specific columns\n",
    "prime_cols = [\"Movie Name\", \"Language\", \"IMDb Rating\", \"Maturity Rating\"]\n",
    "prime_transformed = prime_df[prime_cols].copy()\n",
    "\n",
    "# Rename the column headers\n",
    "prime_transformed = prime_transformed.rename(columns={\"Movie Name\": \"Movie Title\",\n",
    "                                                          \"Language\": \"Language\",\n",
    "                                                          \"IMDb Rating\": \"IMDB Rating\",\n",
    "                                                        \"Maturity Rating\": \"PG Rating\"})\n",
    "\n",
    "# Clean the data by dropping duplicates and setting the index\n",
    "prime_transformed.drop_duplicates(\"Movie Title\", inplace=True)\n",
    "prime_transformed.set_index(\"IMDB Rating\", inplace=True)\n",
    "\n",
    "prime_transformed.head()\n"
   ]
  },
  {
   "cell_type": "code",
   "execution_count": 15,
   "id": "b5e1f174",
   "metadata": {},
   "outputs": [],
   "source": [
    "#Create Database connection\n",
    "connection_string = \"postgres:postgres@localhost:5432/prime1_db\"\n",
    "engine = create_engine(f'postgresql://{connection_string}')"
   ]
  },
  {
   "cell_type": "code",
   "execution_count": 16,
   "id": "38170f9f",
   "metadata": {},
   "outputs": [
    {
     "name": "stderr",
     "output_type": "stream",
     "text": [
      "/var/folders/s3/_tx_vh_n3jxcv5xmm_5v0lpr0000gn/T/ipykernel_4293/3015872754.py:2: SADeprecationWarning: The Engine.table_names() method is deprecated and will be removed in a future release.  Please refer to Inspector.get_table_names(). (deprecated since: 1.4)\n",
      "  engine.table_names()\n"
     ]
    },
    {
     "data": {
      "text/plain": [
       "['prime_table']"
      ]
     },
     "execution_count": 16,
     "metadata": {},
     "output_type": "execute_result"
    }
   ],
   "source": [
    "# Confirm tables\n",
    "engine.table_names()"
   ]
  },
  {
   "cell_type": "code",
   "execution_count": null,
   "id": "c3231d08",
   "metadata": {},
   "outputs": [],
   "source": [
    "#Use pandas to Load  csv converted DataFrames into database\n",
    "prime_transformed.to_sql(name='prime_table', con=engine, if_exists='append', index=True)"
   ]
  },
  {
   "cell_type": "code",
   "execution_count": null,
   "id": "25b6a525",
   "metadata": {},
   "outputs": [],
   "source": [
    "#confirm data has been added by quering the table\n",
    "pd.read_sql_query('select * from prime_table', con=engine).head()"
   ]
  }
 ],
 "metadata": {
  "kernelspec": {
   "display_name": "Python 3 (ipykernel)",
   "language": "python",
   "name": "python3"
  },
  "language_info": {
   "codemirror_mode": {
    "name": "ipython",
    "version": 3
   },
   "file_extension": ".py",
   "mimetype": "text/x-python",
   "name": "python",
   "nbconvert_exporter": "python",
   "pygments_lexer": "ipython3",
   "version": "3.9.6"
  }
 },
 "nbformat": 4,
 "nbformat_minor": 5
}
